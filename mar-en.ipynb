{
  "nbformat": 4,
  "nbformat_minor": 0,
  "metadata": {
    "accelerator": "GPU",
    "colab": {
      "name": "Translator.ipynb",
      "provenance": []
    },
    "kernelspec": {
      "display_name": "Python 3",
      "name": "python3"
    }
  },
  "cells": [
    {
      "cell_type": "code",
      "metadata": {
        "id": "g7tF_jBLP33G"
      },
      "source": [
        "import os\r\n",
        "os.chdir(\"/content/drive/My Drive/Translator/\")"
      ],
      "execution_count": null,
      "outputs": []
    },
    {
      "cell_type": "code",
      "metadata": {
        "colab": {
          "base_uri": "https://localhost:8080/",
          "height": 35
        },
        "id": "Iq8j71Q6QYa4",
        "outputId": "4a1aecb4-d648-47c8-d453-1b1ac607ecd0"
      },
      "source": [
        "os.getcwd()"
      ],
      "execution_count": null,
      "outputs": [
        {
          "output_type": "execute_result",
          "data": {
            "application/vnd.google.colaboratory.intrinsic+json": {
              "type": "string"
            },
            "text/plain": [
              "'/content/drive/My Drive/Translator'"
            ]
          },
          "metadata": {
            "tags": []
          },
          "execution_count": 2
        }
      ]
    },
    {
      "cell_type": "code",
      "metadata": {
        "id": "Bl9G6No4QkgC"
      },
      "source": [
        "import pandas as pd\r\n",
        "from keras import preprocessing,utils"
      ],
      "execution_count": null,
      "outputs": []
    },
    {
      "cell_type": "code",
      "metadata": {
        "id": "f-c4NWnDgR6i"
      },
      "source": [
        "import numpy as np\r\n"
      ],
      "execution_count": null,
      "outputs": []
    },
    {
      "cell_type": "code",
      "metadata": {
        "id": "ffGTc37RZKGg"
      },
      "source": [
        "import re"
      ],
      "execution_count": null,
      "outputs": []
    },
    {
      "cell_type": "code",
      "metadata": {
        "id": "xBohYXLpl9yl"
      },
      "source": [
        "import tensorflow as tf\r\n"
      ],
      "execution_count": null,
      "outputs": []
    },
    {
      "cell_type": "code",
      "metadata": {
        "id": "BErKKtHBwNJ_"
      },
      "source": [
        "import time"
      ],
      "execution_count": null,
      "outputs": []
    },
    {
      "cell_type": "markdown",
      "metadata": {
        "id": "6ZYw5_7EQuJg"
      },
      "source": [
        "\r\n",
        "# Data Preparing"
      ]
    },
    {
      "cell_type": "code",
      "metadata": {
        "id": "QiUQ3C2JQ3eG"
      },
      "source": [
        "# !wget http://www.manythings.org/anki/mar-eng.zip -O mar-eng.zip\r\n",
        "# !unzip mar-eng.zip"
      ],
      "execution_count": null,
      "outputs": []
    },
    {
      "cell_type": "code",
      "metadata": {
        "id": "-P_J_IwDRJfP"
      },
      "source": [
        "lines = pd.read_table( 'mar.txt' , names=[ 'eng' , 'mar' ] )"
      ],
      "execution_count": null,
      "outputs": []
    },
    {
      "cell_type": "code",
      "metadata": {
        "colab": {
          "base_uri": "https://localhost:8080/"
        },
        "id": "4rpbRSJMUCBq",
        "outputId": "23b4e75b-6939-4031-b099-1ab08ce917c1"
      },
      "source": [
        "lines.head()"
      ],
      "execution_count": null,
      "outputs": [
        {
          "output_type": "execute_result",
          "data": {
            "text/html": [
              "<div>\n",
              "<style scoped>\n",
              "    .dataframe tbody tr th:only-of-type {\n",
              "        vertical-align: middle;\n",
              "    }\n",
              "\n",
              "    .dataframe tbody tr th {\n",
              "        vertical-align: top;\n",
              "    }\n",
              "\n",
              "    .dataframe thead th {\n",
              "        text-align: right;\n",
              "    }\n",
              "</style>\n",
              "<table border=\"1\" class=\"dataframe\">\n",
              "  <thead>\n",
              "    <tr style=\"text-align: right;\">\n",
              "      <th></th>\n",
              "      <th>eng</th>\n",
              "      <th>mar</th>\n",
              "    </tr>\n",
              "  </thead>\n",
              "  <tbody>\n",
              "    <tr>\n",
              "      <th>Go.</th>\n",
              "      <td>जा.</td>\n",
              "      <td>CC-BY 2.0 (France) Attribution: tatoeba.org #2...</td>\n",
              "    </tr>\n",
              "    <tr>\n",
              "      <th>Run!</th>\n",
              "      <td>पळ!</td>\n",
              "      <td>CC-BY 2.0 (France) Attribution: tatoeba.org #9...</td>\n",
              "    </tr>\n",
              "    <tr>\n",
              "      <th>Run!</th>\n",
              "      <td>धाव!</td>\n",
              "      <td>CC-BY 2.0 (France) Attribution: tatoeba.org #9...</td>\n",
              "    </tr>\n",
              "    <tr>\n",
              "      <th>Run!</th>\n",
              "      <td>पळा!</td>\n",
              "      <td>CC-BY 2.0 (France) Attribution: tatoeba.org #9...</td>\n",
              "    </tr>\n",
              "    <tr>\n",
              "      <th>Run!</th>\n",
              "      <td>धावा!</td>\n",
              "      <td>CC-BY 2.0 (France) Attribution: tatoeba.org #9...</td>\n",
              "    </tr>\n",
              "  </tbody>\n",
              "</table>\n",
              "</div>"
            ],
            "text/plain": [
              "        eng                                                mar\n",
              "Go.     जा.  CC-BY 2.0 (France) Attribution: tatoeba.org #2...\n",
              "Run!    पळ!  CC-BY 2.0 (France) Attribution: tatoeba.org #9...\n",
              "Run!   धाव!  CC-BY 2.0 (France) Attribution: tatoeba.org #9...\n",
              "Run!   पळा!  CC-BY 2.0 (France) Attribution: tatoeba.org #9...\n",
              "Run!  धावा!  CC-BY 2.0 (France) Attribution: tatoeba.org #9..."
            ]
          },
          "metadata": {
            "tags": []
          },
          "execution_count": 10
        }
      ]
    },
    {
      "cell_type": "code",
      "metadata": {
        "id": "_3GiYzXqU8Xc"
      },
      "source": [
        "lines.reset_index(level=0,inplace=True)"
      ],
      "execution_count": null,
      "outputs": []
    },
    {
      "cell_type": "code",
      "metadata": {
        "colab": {
          "base_uri": "https://localhost:8080/"
        },
        "id": "Z5H8x5lRVIYJ",
        "outputId": "87af6d59-7aff-49d5-9d71-561477a9ddec"
      },
      "source": [
        "lines.head()"
      ],
      "execution_count": null,
      "outputs": [
        {
          "output_type": "execute_result",
          "data": {
            "text/html": [
              "<div>\n",
              "<style scoped>\n",
              "    .dataframe tbody tr th:only-of-type {\n",
              "        vertical-align: middle;\n",
              "    }\n",
              "\n",
              "    .dataframe tbody tr th {\n",
              "        vertical-align: top;\n",
              "    }\n",
              "\n",
              "    .dataframe thead th {\n",
              "        text-align: right;\n",
              "    }\n",
              "</style>\n",
              "<table border=\"1\" class=\"dataframe\">\n",
              "  <thead>\n",
              "    <tr style=\"text-align: right;\">\n",
              "      <th></th>\n",
              "      <th>index</th>\n",
              "      <th>eng</th>\n",
              "      <th>mar</th>\n",
              "    </tr>\n",
              "  </thead>\n",
              "  <tbody>\n",
              "    <tr>\n",
              "      <th>0</th>\n",
              "      <td>Go.</td>\n",
              "      <td>जा.</td>\n",
              "      <td>CC-BY 2.0 (France) Attribution: tatoeba.org #2...</td>\n",
              "    </tr>\n",
              "    <tr>\n",
              "      <th>1</th>\n",
              "      <td>Run!</td>\n",
              "      <td>पळ!</td>\n",
              "      <td>CC-BY 2.0 (France) Attribution: tatoeba.org #9...</td>\n",
              "    </tr>\n",
              "    <tr>\n",
              "      <th>2</th>\n",
              "      <td>Run!</td>\n",
              "      <td>धाव!</td>\n",
              "      <td>CC-BY 2.0 (France) Attribution: tatoeba.org #9...</td>\n",
              "    </tr>\n",
              "    <tr>\n",
              "      <th>3</th>\n",
              "      <td>Run!</td>\n",
              "      <td>पळा!</td>\n",
              "      <td>CC-BY 2.0 (France) Attribution: tatoeba.org #9...</td>\n",
              "    </tr>\n",
              "    <tr>\n",
              "      <th>4</th>\n",
              "      <td>Run!</td>\n",
              "      <td>धावा!</td>\n",
              "      <td>CC-BY 2.0 (France) Attribution: tatoeba.org #9...</td>\n",
              "    </tr>\n",
              "  </tbody>\n",
              "</table>\n",
              "</div>"
            ],
            "text/plain": [
              "  index    eng                                                mar\n",
              "0   Go.    जा.  CC-BY 2.0 (France) Attribution: tatoeba.org #2...\n",
              "1  Run!    पळ!  CC-BY 2.0 (France) Attribution: tatoeba.org #9...\n",
              "2  Run!   धाव!  CC-BY 2.0 (France) Attribution: tatoeba.org #9...\n",
              "3  Run!   पळा!  CC-BY 2.0 (France) Attribution: tatoeba.org #9...\n",
              "4  Run!  धावा!  CC-BY 2.0 (France) Attribution: tatoeba.org #9..."
            ]
          },
          "metadata": {
            "tags": []
          },
          "execution_count": 12
        }
      ]
    },
    {
      "cell_type": "code",
      "metadata": {
        "id": "pTMrCB1HVaeY"
      },
      "source": [
        "lines.rename( columns={ 'index' : 'eng' , 'eng' : 'mar' , 'mar' : 'c' } , inplace=True )\r\n",
        "lines = lines.drop( 'c' , 1 )"
      ],
      "execution_count": null,
      "outputs": []
    },
    {
      "cell_type": "code",
      "metadata": {
        "colab": {
          "base_uri": "https://localhost:8080/"
        },
        "id": "S6wQfNQ3WIrf",
        "outputId": "1c3d3e7c-d6f4-4ba0-9acd-3707565c8739"
      },
      "source": [
        "lines.head()"
      ],
      "execution_count": null,
      "outputs": [
        {
          "output_type": "execute_result",
          "data": {
            "text/html": [
              "<div>\n",
              "<style scoped>\n",
              "    .dataframe tbody tr th:only-of-type {\n",
              "        vertical-align: middle;\n",
              "    }\n",
              "\n",
              "    .dataframe tbody tr th {\n",
              "        vertical-align: top;\n",
              "    }\n",
              "\n",
              "    .dataframe thead th {\n",
              "        text-align: right;\n",
              "    }\n",
              "</style>\n",
              "<table border=\"1\" class=\"dataframe\">\n",
              "  <thead>\n",
              "    <tr style=\"text-align: right;\">\n",
              "      <th></th>\n",
              "      <th>eng</th>\n",
              "      <th>mar</th>\n",
              "    </tr>\n",
              "  </thead>\n",
              "  <tbody>\n",
              "    <tr>\n",
              "      <th>0</th>\n",
              "      <td>Go.</td>\n",
              "      <td>जा.</td>\n",
              "    </tr>\n",
              "    <tr>\n",
              "      <th>1</th>\n",
              "      <td>Run!</td>\n",
              "      <td>पळ!</td>\n",
              "    </tr>\n",
              "    <tr>\n",
              "      <th>2</th>\n",
              "      <td>Run!</td>\n",
              "      <td>धाव!</td>\n",
              "    </tr>\n",
              "    <tr>\n",
              "      <th>3</th>\n",
              "      <td>Run!</td>\n",
              "      <td>पळा!</td>\n",
              "    </tr>\n",
              "    <tr>\n",
              "      <th>4</th>\n",
              "      <td>Run!</td>\n",
              "      <td>धावा!</td>\n",
              "    </tr>\n",
              "  </tbody>\n",
              "</table>\n",
              "</div>"
            ],
            "text/plain": [
              "    eng    mar\n",
              "0   Go.    जा.\n",
              "1  Run!    पळ!\n",
              "2  Run!   धाव!\n",
              "3  Run!   पळा!\n",
              "4  Run!  धावा!"
            ]
          },
          "metadata": {
            "tags": []
          },
          "execution_count": 14
        }
      ]
    },
    {
      "cell_type": "code",
      "metadata": {
        "id": "zHKu__u0Q2Wl"
      },
      "source": [
        "lines=lines.sample(frac=1)"
      ],
      "execution_count": null,
      "outputs": []
    },
    {
      "cell_type": "code",
      "metadata": {
        "colab": {
          "base_uri": "https://localhost:8080/"
        },
        "id": "60ciZfyEQ-1W",
        "outputId": "61627cd2-b2cd-4207-e228-0c434e9d272e"
      },
      "source": [
        "lines.head()"
      ],
      "execution_count": null,
      "outputs": [
        {
          "output_type": "execute_result",
          "data": {
            "text/html": [
              "<div>\n",
              "<style scoped>\n",
              "    .dataframe tbody tr th:only-of-type {\n",
              "        vertical-align: middle;\n",
              "    }\n",
              "\n",
              "    .dataframe tbody tr th {\n",
              "        vertical-align: top;\n",
              "    }\n",
              "\n",
              "    .dataframe thead th {\n",
              "        text-align: right;\n",
              "    }\n",
              "</style>\n",
              "<table border=\"1\" class=\"dataframe\">\n",
              "  <thead>\n",
              "    <tr style=\"text-align: right;\">\n",
              "      <th></th>\n",
              "      <th>eng</th>\n",
              "      <th>mar</th>\n",
              "    </tr>\n",
              "  </thead>\n",
              "  <tbody>\n",
              "    <tr>\n",
              "      <th>34962</th>\n",
              "      <td>I got the message just this morning.</td>\n",
              "      <td>मला आज सकाळीच निरोप पोहोचला.</td>\n",
              "    </tr>\n",
              "    <tr>\n",
              "      <th>29916</th>\n",
              "      <td>They are preparing themselves.</td>\n",
              "      <td>ते स्वतःला तयार करत आहेत.</td>\n",
              "    </tr>\n",
              "    <tr>\n",
              "      <th>1881</th>\n",
              "      <td>Who sent you?</td>\n",
              "      <td>तुम्हाला कोणी पाठवलं?</td>\n",
              "    </tr>\n",
              "    <tr>\n",
              "      <th>35270</th>\n",
              "      <td>Tom drinks six cups of coffee a day.</td>\n",
              "      <td>टॉम एका दिवसात सहा कप कॉफी पितो.</td>\n",
              "    </tr>\n",
              "    <tr>\n",
              "      <th>38994</th>\n",
              "      <td>My uncle, who lives in Paris, came to see us.</td>\n",
              "      <td>माझा पॅरिसमध्ये राहणारा मामा आम्हाला भेटायला आला.</td>\n",
              "    </tr>\n",
              "  </tbody>\n",
              "</table>\n",
              "</div>"
            ],
            "text/plain": [
              "                                                 eng                                                mar\n",
              "34962           I got the message just this morning.                       मला आज सकाळीच निरोप पोहोचला.\n",
              "29916                 They are preparing themselves.                          ते स्वतःला तयार करत आहेत.\n",
              "1881                                   Who sent you?                              तुम्हाला कोणी पाठवलं?\n",
              "35270           Tom drinks six cups of coffee a day.                   टॉम एका दिवसात सहा कप कॉफी पितो.\n",
              "38994  My uncle, who lives in Paris, came to see us.  माझा पॅरिसमध्ये राहणारा मामा आम्हाला भेटायला आला."
            ]
          },
          "metadata": {
            "tags": []
          },
          "execution_count": 16
        }
      ]
    },
    {
      "cell_type": "code",
      "metadata": {
        "colab": {
          "base_uri": "https://localhost:8080/"
        },
        "id": "3iDfQb3QWLA9",
        "outputId": "2f613985-d5f2-4930-9502-60a4355b0661"
      },
      "source": [
        "len(lines)"
      ],
      "execution_count": null,
      "outputs": [
        {
          "output_type": "execute_result",
          "data": {
            "text/plain": [
              "40751"
            ]
          },
          "metadata": {
            "tags": []
          },
          "execution_count": 17
        }
      ]
    },
    {
      "cell_type": "code",
      "metadata": {
        "id": "n4pZbkhMdpM6"
      },
      "source": [
        "train=int(0.9*40751)\r\n",
        "val=int(0.1*40751)\r\n"
      ],
      "execution_count": null,
      "outputs": []
    },
    {
      "cell_type": "code",
      "metadata": {
        "colab": {
          "base_uri": "https://localhost:8080/"
        },
        "id": "6xg0_kXfWBa1",
        "outputId": "688f94ce-6b5a-43e4-ba3b-45ecddb38d11"
      },
      "source": [
        "train"
      ],
      "execution_count": null,
      "outputs": [
        {
          "output_type": "execute_result",
          "data": {
            "text/plain": [
              "36675"
            ]
          },
          "metadata": {
            "tags": []
          },
          "execution_count": 19
        }
      ]
    },
    {
      "cell_type": "code",
      "metadata": {
        "id": "czYmpsjwd5mI"
      },
      "source": [
        "from sklearn.model_selection import train_test_split"
      ],
      "execution_count": null,
      "outputs": []
    },
    {
      "cell_type": "code",
      "metadata": {
        "id": "zXfztROIeNmo"
      },
      "source": [
        "eng_unprocessed=lines['eng'].values.tolist()"
      ],
      "execution_count": null,
      "outputs": []
    },
    {
      "cell_type": "code",
      "metadata": {
        "id": "n6N58uZsdyTq"
      },
      "source": [
        "mar_unprocessed=lines['mar'].values.tolist()"
      ],
      "execution_count": null,
      "outputs": []
    },
    {
      "cell_type": "code",
      "metadata": {
        "colab": {
          "base_uri": "https://localhost:8080/"
        },
        "id": "KylGBz97eoeR",
        "outputId": "95a09a19-2bc2-4dbf-b000-34b197a4c620"
      },
      "source": [
        "eng_unprocessed[:4]"
      ],
      "execution_count": null,
      "outputs": [
        {
          "output_type": "execute_result",
          "data": {
            "text/plain": [
              "['I got the message just this morning.',\n",
              " 'They are preparing themselves.',\n",
              " 'Who sent you?',\n",
              " 'Tom drinks six cups of coffee a day.']"
            ]
          },
          "metadata": {
            "tags": []
          },
          "execution_count": 23
        }
      ]
    },
    {
      "cell_type": "code",
      "metadata": {
        "colab": {
          "base_uri": "https://localhost:8080/"
        },
        "id": "rQB6jrNkevwR",
        "outputId": "22ce5ee2-db9b-4f2a-eb30-3ec714963938"
      },
      "source": [
        "mar_unprocessed[:4]"
      ],
      "execution_count": null,
      "outputs": [
        {
          "output_type": "execute_result",
          "data": {
            "text/plain": [
              "['मला आज सकाळीच निरोप पोहोचला.',\n",
              " 'ते स्वतःला तयार करत आहेत.',\n",
              " 'तुम्हाला कोणी पाठवलं?',\n",
              " 'टॉम एका दिवसात सहा कप कॉफी पितो.']"
            ]
          },
          "metadata": {
            "tags": []
          },
          "execution_count": 24
        }
      ]
    },
    {
      "cell_type": "code",
      "metadata": {
        "id": "035eWRhqYm0_"
      },
      "source": [
        "def preprocess_sentence(w):\r\n",
        "  \r\n",
        "  w = re.sub(r\"([?.!,¿])\", r\" \\1 \", w)\r\n",
        "  w = re.sub(r'[\" \"]+', \" \", w)\r\n",
        "\r\n",
        "  w = w.strip()\r\n",
        "\r\n",
        "  # adding a start and an end token to the sentence\r\n",
        "  # so that the model know when to start and stop predicting.\r\n",
        "  w = '<start> ' + w + ' <end>'\r\n",
        "  return w"
      ],
      "execution_count": null,
      "outputs": []
    },
    {
      "cell_type": "code",
      "metadata": {
        "id": "NIoIaDTFZBQp"
      },
      "source": [
        "mar=[]\r\n",
        "for line in mar_unprocessed:\r\n",
        "  mar.append(preprocess_sentence(line))"
      ],
      "execution_count": null,
      "outputs": []
    },
    {
      "cell_type": "code",
      "metadata": {
        "id": "jWCWePo4Zns7"
      },
      "source": [
        "eng=[]\r\n",
        "for line in eng_unprocessed:\r\n",
        "  eng.append(preprocess_sentence(line))"
      ],
      "execution_count": null,
      "outputs": []
    },
    {
      "cell_type": "code",
      "metadata": {
        "id": "_uimeNv0IseL"
      },
      "source": [
        "eng_test=eng[:val]"
      ],
      "execution_count": null,
      "outputs": []
    },
    {
      "cell_type": "code",
      "metadata": {
        "id": "B4cZAMmYWw_t"
      },
      "source": [
        "mar_test=mar[:val]"
      ],
      "execution_count": null,
      "outputs": []
    },
    {
      "cell_type": "code",
      "metadata": {
        "id": "vGFNv6k0Wjxl"
      },
      "source": [
        "eng=eng[val:]"
      ],
      "execution_count": null,
      "outputs": []
    },
    {
      "cell_type": "code",
      "metadata": {
        "id": "Gx7q71a_W6PH"
      },
      "source": [
        "mar=mar[val:]"
      ],
      "execution_count": null,
      "outputs": []
    },
    {
      "cell_type": "code",
      "metadata": {
        "colab": {
          "base_uri": "https://localhost:8080/"
        },
        "id": "BfXSPcDYW-tp",
        "outputId": "abe32a37-9ec1-485f-c8e2-2740f5f65ad4"
      },
      "source": [
        "len(eng)"
      ],
      "execution_count": null,
      "outputs": [
        {
          "output_type": "execute_result",
          "data": {
            "text/plain": [
              "36676"
            ]
          },
          "metadata": {
            "tags": []
          },
          "execution_count": 32
        }
      ]
    },
    {
      "cell_type": "markdown",
      "metadata": {
        "id": "XSfa7ueGP78k"
      },
      "source": [
        "# DATA GENERATOR"
      ]
    },
    {
      "cell_type": "markdown",
      "metadata": {
        "id": "OFZq51OAcUVR"
      },
      "source": [
        "## Encoder Input"
      ]
    },
    {
      "cell_type": "code",
      "metadata": {
        "id": "si_mmY4gVHW2"
      },
      "source": [
        "eng_lines=[]\r\n",
        "for line in eng:\r\n",
        "  eng_lines.append(line)"
      ],
      "execution_count": null,
      "outputs": []
    },
    {
      "cell_type": "code",
      "metadata": {
        "colab": {
          "base_uri": "https://localhost:8080/"
        },
        "id": "n46trc2dSIrG",
        "outputId": "c7023057-1efc-49a6-eb66-d293f843c685"
      },
      "source": [
        "eng_lines[0]"
      ],
      "execution_count": null,
      "outputs": [
        {
          "output_type": "execute_result",
          "data": {
            "application/vnd.google.colaboratory.intrinsic+json": {
              "type": "string"
            },
            "text/plain": [
              "'<start> I still remember Tom . <end>'"
            ]
          },
          "metadata": {
            "tags": []
          },
          "execution_count": 34
        }
      ]
    },
    {
      "cell_type": "code",
      "metadata": {
        "id": "HhUIIvywWz-_"
      },
      "source": [
        "eng_tokenizer=preprocessing.text.Tokenizer(oov_token='UNK',filters='')\r\n",
        "eng_tokenizer.fit_on_texts(eng_lines)\r\n",
        "token_eng_lines=eng_tokenizer.texts_to_sequences([eng_lines[0]])"
      ],
      "execution_count": null,
      "outputs": []
    },
    {
      "cell_type": "code",
      "metadata": {
        "colab": {
          "base_uri": "https://localhost:8080/"
        },
        "id": "B6W9V9rSSCgO",
        "outputId": "936bf115-d982-4028-b31e-a0c750212e62"
      },
      "source": [
        "token_eng_lines"
      ],
      "execution_count": null,
      "outputs": [
        {
          "output_type": "execute_result",
          "data": {
            "text/plain": [
              "[[2, 6, 92, 318, 7, 4, 3]]"
            ]
          },
          "metadata": {
            "tags": []
          },
          "execution_count": 36
        }
      ]
    },
    {
      "cell_type": "code",
      "metadata": {
        "colab": {
          "base_uri": "https://localhost:8080/"
        },
        "id": "I-lG7itFST_b",
        "outputId": "2fc8c141-2079-4a06-a3fa-c870e76a1587"
      },
      "source": [
        "eng_tokenizer.sequences_to_texts(token_eng_lines)"
      ],
      "execution_count": null,
      "outputs": [
        {
          "output_type": "execute_result",
          "data": {
            "text/plain": [
              "['<start> i still remember tom . <end>']"
            ]
          },
          "metadata": {
            "tags": []
          },
          "execution_count": 37
        }
      ]
    },
    {
      "cell_type": "code",
      "metadata": {
        "id": "5y4aUQGUfw2A"
      },
      "source": [
        "length_list=list()\r\n",
        "for line in eng_lines:\r\n",
        "  \r\n",
        "  length_list.append(len(line.split()))\r\n",
        "\r\n",
        "max_eng_length=int(np.percentile(length_list,100))"
      ],
      "execution_count": null,
      "outputs": []
    },
    {
      "cell_type": "code",
      "metadata": {
        "colab": {
          "base_uri": "https://localhost:8080/"
        },
        "id": "bNDnSS-Ug56i",
        "outputId": "30c7342e-d37a-4694-a0bf-a281858b5c2b"
      },
      "source": [
        "max_eng_length"
      ],
      "execution_count": null,
      "outputs": [
        {
          "output_type": "execute_result",
          "data": {
            "text/plain": [
              "42"
            ]
          },
          "metadata": {
            "tags": []
          },
          "execution_count": 39
        }
      ]
    },
    {
      "cell_type": "code",
      "metadata": {
        "id": "BwONpe6UXNNC"
      },
      "source": [
        "eng_tokenizer.word_index['PAD0']=0"
      ],
      "execution_count": null,
      "outputs": []
    },
    {
      "cell_type": "code",
      "metadata": {
        "id": "kr8N4CoTc_T6"
      },
      "source": [
        "eng_ix_to_word = {}\r\n",
        "\r\n",
        "#no word in vocab has index 0, but padding will have index 0\r\n",
        "eng_tokenizer.word_index['PAD0'] = 0 \r\n",
        "for word in eng_tokenizer.word_index:\r\n",
        "  eng_ix_to_word[eng_tokenizer.word_index[word]] = word\r\n"
      ],
      "execution_count": null,
      "outputs": []
    },
    {
      "cell_type": "code",
      "metadata": {
        "id": "BkkJbHE6hAxA"
      },
      "source": [
        "eng_word_dict=eng_tokenizer.word_index\r\n",
        "num_eng_tokens=len(eng_word_dict)+1\r\n"
      ],
      "execution_count": null,
      "outputs": []
    },
    {
      "cell_type": "code",
      "metadata": {
        "id": "H24tlMEBdS2Q"
      },
      "source": [
        "eng_ix_to_word = {}\r\n",
        "\r\n",
        "#no word in vocab has index 0, but padding will have index 0\r\n",
        "for word in eng_tokenizer.word_index:\r\n",
        "  eng_ix_to_word[eng_tokenizer.word_index[word]] = word\r\n"
      ],
      "execution_count": null,
      "outputs": []
    },
    {
      "cell_type": "code",
      "metadata": {
        "colab": {
          "base_uri": "https://localhost:8080/"
        },
        "id": "0SuLyeS5dcyQ",
        "outputId": "62172500-5c9a-47b5-e534-b5f7e1375a48"
      },
      "source": [
        "len(eng_ix_to_word)==len(eng_word_dict)"
      ],
      "execution_count": null,
      "outputs": [
        {
          "output_type": "execute_result",
          "data": {
            "text/plain": [
              "True"
            ]
          },
          "metadata": {
            "tags": []
          },
          "execution_count": 44
        }
      ]
    },
    {
      "cell_type": "code",
      "metadata": {
        "colab": {
          "base_uri": "https://localhost:8080/"
        },
        "id": "90teO7mDbyqX",
        "outputId": "ecef478d-3aad-4595-d72c-d6f7921bb0e5"
      },
      "source": [
        "eng_tokenizer.index_word[1]"
      ],
      "execution_count": null,
      "outputs": [
        {
          "output_type": "execute_result",
          "data": {
            "application/vnd.google.colaboratory.intrinsic+json": {
              "type": "string"
            },
            "text/plain": [
              "'UNK'"
            ]
          },
          "metadata": {
            "tags": []
          },
          "execution_count": 45
        }
      ]
    },
    {
      "cell_type": "code",
      "metadata": {
        "colab": {
          "base_uri": "https://localhost:8080/"
        },
        "id": "vE16V_iVh-DR",
        "outputId": "f79eed8d-946e-4621-a7c8-0402684d2fc0"
      },
      "source": [
        "num_eng_tokens"
      ],
      "execution_count": null,
      "outputs": [
        {
          "output_type": "execute_result",
          "data": {
            "text/plain": [
              "5739"
            ]
          },
          "metadata": {
            "tags": []
          },
          "execution_count": 46
        }
      ]
    },
    {
      "cell_type": "code",
      "metadata": {
        "id": "JPqyyC3NtkHp"
      },
      "source": [
        "eng_lines=eng_tokenizer.texts_to_sequences(eng_lines)"
      ],
      "execution_count": null,
      "outputs": []
    },
    {
      "cell_type": "code",
      "metadata": {
        "id": "Qbi-awzAtws3"
      },
      "source": [
        "eng_lines=preprocessing.sequence.pad_sequences(eng_lines,maxlen=max_eng_length,padding='post')"
      ],
      "execution_count": null,
      "outputs": []
    },
    {
      "cell_type": "code",
      "metadata": {
        "colab": {
          "base_uri": "https://localhost:8080/"
        },
        "id": "DKiM7LoFt7v7",
        "outputId": "8a9a4af7-1b3d-4333-98d4-67f8496295be"
      },
      "source": [
        "eng_lines.shape"
      ],
      "execution_count": null,
      "outputs": [
        {
          "output_type": "execute_result",
          "data": {
            "text/plain": [
              "(36676, 42)"
            ]
          },
          "metadata": {
            "tags": []
          },
          "execution_count": 49
        }
      ]
    },
    {
      "cell_type": "markdown",
      "metadata": {
        "id": "6DSDTmfBiScv"
      },
      "source": [
        "## Decoder input"
      ]
    },
    {
      "cell_type": "code",
      "metadata": {
        "id": "fUSFzuRmiN2Y"
      },
      "source": [
        "\r\n",
        "mar_lines=[]\r\n",
        "for line in mar:\r\n",
        "  mar_lines.append(line)"
      ],
      "execution_count": null,
      "outputs": []
    },
    {
      "cell_type": "code",
      "metadata": {
        "colab": {
          "base_uri": "https://localhost:8080/"
        },
        "id": "yC-Pm6JwVb4Y",
        "outputId": "3f154815-ebad-4b26-a3fb-bbdf81873bd9"
      },
      "source": [
        "mar_lines[0]"
      ],
      "execution_count": null,
      "outputs": [
        {
          "output_type": "execute_result",
          "data": {
            "application/vnd.google.colaboratory.intrinsic+json": {
              "type": "string"
            },
            "text/plain": [
              "'<start> मला अजूनही टॉम आठवतो . <end>'"
            ]
          },
          "metadata": {
            "tags": []
          },
          "execution_count": 51
        }
      ]
    },
    {
      "cell_type": "code",
      "metadata": {
        "id": "GjbiFJqOVkNr"
      },
      "source": [
        "\r\n",
        "mar_tokenizer=preprocessing.text.Tokenizer(oov_token='UNK',filters='')\r\n",
        "mar_tokenizer.fit_on_texts(mar_lines)\r\n",
        "token_mar_lines=mar_tokenizer.texts_to_sequences([mar_lines[0]])"
      ],
      "execution_count": null,
      "outputs": []
    },
    {
      "cell_type": "code",
      "metadata": {
        "colab": {
          "base_uri": "https://localhost:8080/"
        },
        "id": "BZdDHr6EV1cD",
        "outputId": "a8cd8ea1-34d1-4d47-8de4-2f54e2227e64"
      },
      "source": [
        "token_mar_lines"
      ],
      "execution_count": null,
      "outputs": [
        {
          "output_type": "execute_result",
          "data": {
            "text/plain": [
              "[[2, 9, 76, 10, 2132, 4, 3]]"
            ]
          },
          "metadata": {
            "tags": []
          },
          "execution_count": 53
        }
      ]
    },
    {
      "cell_type": "code",
      "metadata": {
        "colab": {
          "base_uri": "https://localhost:8080/"
        },
        "id": "COmfmM3PeOKP",
        "outputId": "4671fc41-71f9-4e4a-a890-9d1a9b14dcaf"
      },
      "source": [
        "mar_tokenizer.sequences_to_texts(token_mar_lines)"
      ],
      "execution_count": null,
      "outputs": [
        {
          "output_type": "execute_result",
          "data": {
            "text/plain": [
              "['<start> मला अजूनही टॉम आठवतो . <end>']"
            ]
          },
          "metadata": {
            "tags": []
          },
          "execution_count": 54
        }
      ]
    },
    {
      "cell_type": "code",
      "metadata": {
        "id": "VXTd6Usgjh1Q"
      },
      "source": [
        "length_list=list()\r\n",
        "for line in mar_lines:\r\n",
        "  \r\n",
        "  length_list.append(len(line.split()))\r\n",
        "\r\n",
        "max_mar_length=int(np.percentile(length_list,100))"
      ],
      "execution_count": null,
      "outputs": []
    },
    {
      "cell_type": "code",
      "metadata": {
        "colab": {
          "base_uri": "https://localhost:8080/"
        },
        "id": "8IqcXcpxjo6U",
        "outputId": "1d90e03c-887c-40ff-b074-756060a596e0"
      },
      "source": [
        "max_mar_length"
      ],
      "execution_count": null,
      "outputs": [
        {
          "output_type": "execute_result",
          "data": {
            "text/plain": [
              "40"
            ]
          },
          "metadata": {
            "tags": []
          },
          "execution_count": 56
        }
      ]
    },
    {
      "cell_type": "code",
      "metadata": {
        "id": "I_hA1i9Fjqk5"
      },
      "source": [
        "mar_word_dict=mar_tokenizer.word_index\r\n",
        "num_mar_tokens=len(mar_word_dict)+1"
      ],
      "execution_count": null,
      "outputs": []
    },
    {
      "cell_type": "code",
      "metadata": {
        "id": "kr3Cp8pSduSL"
      },
      "source": [
        "mar_ix_to_word = {}\r\n",
        "\r\n",
        "#no word in vocab has index 0, but padding will have index 0\r\n",
        "for word in mar_tokenizer.word_index:\r\n",
        "  mar_ix_to_word[mar_tokenizer.word_index[word]] = word"
      ],
      "execution_count": null,
      "outputs": []
    },
    {
      "cell_type": "code",
      "metadata": {
        "colab": {
          "base_uri": "https://localhost:8080/"
        },
        "id": "LozMXzIfd3lH",
        "outputId": "b62694a4-238e-49bb-a4b8-03ce770f07f9"
      },
      "source": [
        "len(mar_ix_to_word)==len(mar_word_dict)"
      ],
      "execution_count": null,
      "outputs": [
        {
          "output_type": "execute_result",
          "data": {
            "text/plain": [
              "True"
            ]
          },
          "metadata": {
            "tags": []
          },
          "execution_count": 59
        }
      ]
    },
    {
      "cell_type": "code",
      "metadata": {
        "colab": {
          "base_uri": "https://localhost:8080/"
        },
        "id": "IEUoU1XzlwfM",
        "outputId": "b6c7595c-f140-49bf-da7d-fc32b758d964"
      },
      "source": [
        "num_mar_tokens"
      ],
      "execution_count": null,
      "outputs": [
        {
          "output_type": "execute_result",
          "data": {
            "text/plain": [
              "13261"
            ]
          },
          "metadata": {
            "tags": []
          },
          "execution_count": 60
        }
      ]
    },
    {
      "cell_type": "code",
      "metadata": {
        "id": "As98K3M8muzc"
      },
      "source": [
        "mar_lines=mar_tokenizer.texts_to_sequences(mar_lines)"
      ],
      "execution_count": null,
      "outputs": []
    },
    {
      "cell_type": "code",
      "metadata": {
        "id": "qgs43zNouThT"
      },
      "source": [
        "mar_lines=preprocessing.sequence.pad_sequences(mar_lines,maxlen=max_mar_length,padding='post')"
      ],
      "execution_count": null,
      "outputs": []
    },
    {
      "cell_type": "code",
      "metadata": {
        "colab": {
          "base_uri": "https://localhost:8080/"
        },
        "id": "MVcWVM-TuV8X",
        "outputId": "77a3cf3d-f248-4cfb-c7e3-13c8f8a4dabd"
      },
      "source": [
        "mar_lines.shape"
      ],
      "execution_count": null,
      "outputs": [
        {
          "output_type": "execute_result",
          "data": {
            "text/plain": [
              "(36676, 40)"
            ]
          },
          "metadata": {
            "tags": []
          },
          "execution_count": 63
        }
      ]
    },
    {
      "cell_type": "markdown",
      "metadata": {
        "id": "DwH4EUeVkTnk"
      },
      "source": [
        "Generator"
      ]
    },
    {
      "cell_type": "code",
      "metadata": {
        "id": "QzCQKg88j5el"
      },
      "source": [
        "BUFFER_SIZE = len(mar_lines)\r\n",
        "BATCH_SIZE = 64\r\n",
        "steps_per_epoch = BUFFER_SIZE//BATCH_SIZE\r\n",
        "embedding_dim = 256\r\n",
        "units = 1024\r\n",
        "vocab_inp_size = num_eng_tokens\r\n",
        "vocab_tar_size = num_mar_tokens\r\n",
        "\r\n",
        "dataset = tf.data.Dataset.from_tensor_slices((eng_lines,mar_lines)).shuffle(BUFFER_SIZE)\r\n",
        "dataset = dataset.batch(BATCH_SIZE, drop_remainder=True)"
      ],
      "execution_count": null,
      "outputs": []
    },
    {
      "cell_type": "code",
      "metadata": {
        "colab": {
          "base_uri": "https://localhost:8080/"
        },
        "id": "0iJYbJXVl64N",
        "outputId": "dd16805d-73a1-4f44-a860-cd742c2cd1f8"
      },
      "source": [
        "example_input_batch, example_target_batch = next(iter(dataset))\r\n",
        "example_input_batch.shape, example_target_batch.shape"
      ],
      "execution_count": null,
      "outputs": [
        {
          "output_type": "execute_result",
          "data": {
            "text/plain": [
              "(TensorShape([64, 42]), TensorShape([64, 40]))"
            ]
          },
          "metadata": {
            "tags": []
          },
          "execution_count": 65
        }
      ]
    },
    {
      "cell_type": "code",
      "metadata": {
        "colab": {
          "base_uri": "https://localhost:8080/"
        },
        "id": "M-Qxm74XmVvE",
        "outputId": "1f6f86ba-1f51-49b7-bbbc-3ea6ae968970"
      },
      "source": [
        "example_target_batch"
      ],
      "execution_count": null,
      "outputs": [
        {
          "output_type": "execute_result",
          "data": {
            "text/plain": [
              "<tf.Tensor: shape=(64, 40), dtype=int32, numpy=\n",
              "array([[   2,   29, 3206, ...,    0,    0,    0],\n",
              "       [   2,  328,  140, ...,    0,    0,    0],\n",
              "       [   2,    7, 5998, ...,    0,    0,    0],\n",
              "       ...,\n",
              "       [   2,    7,  160, ...,    0,    0,    0],\n",
              "       [   2,  145, 3032, ...,    0,    0,    0],\n",
              "       [   2,   30,  120, ...,    0,    0,    0]], dtype=int32)>"
            ]
          },
          "metadata": {
            "tags": []
          },
          "execution_count": 66
        }
      ]
    },
    {
      "cell_type": "code",
      "metadata": {
        "colab": {
          "base_uri": "https://localhost:8080/"
        },
        "id": "_xAXXSeIwq9F",
        "outputId": "2700ca18-4bcf-452e-bbe7-b65bae970510"
      },
      "source": [
        "eng_ix_to_word[0]"
      ],
      "execution_count": null,
      "outputs": [
        {
          "output_type": "execute_result",
          "data": {
            "application/vnd.google.colaboratory.intrinsic+json": {
              "type": "string"
            },
            "text/plain": [
              "'PAD0'"
            ]
          },
          "metadata": {
            "tags": []
          },
          "execution_count": 67
        }
      ]
    },
    {
      "cell_type": "markdown",
      "metadata": {
        "id": "xmgMV5TaM-Yj"
      },
      "source": [
        "# Model"
      ]
    },
    {
      "cell_type": "markdown",
      "metadata": {
        "id": "PawNGQeaNCR7"
      },
      "source": [
        "encoder"
      ]
    },
    {
      "cell_type": "code",
      "metadata": {
        "id": "bEXzrDpKNrIC"
      },
      "source": [
        "class Encoder(tf.keras.Model):\r\n",
        "  def __init__(self, vocab_size, embedding_dim, enc_units, batch_sz):\r\n",
        "    super(Encoder, self).__init__()\r\n",
        "    self.batch_sz = batch_sz\r\n",
        "    self.enc_units = enc_units\r\n",
        "    self.embedding = tf.keras.layers.Embedding(vocab_size, embedding_dim)\r\n",
        "    self.gru = tf.keras.layers.GRU(self.enc_units,\r\n",
        "                                   return_sequences=True,\r\n",
        "                                   return_state=True,\r\n",
        "                                   recurrent_initializer='glorot_uniform')\r\n",
        "\r\n",
        "  def call(self, x, hidden):\r\n",
        "    x = self.embedding(x)\r\n",
        "    output, state = self.gru(x, initial_state = hidden)\r\n",
        "    return output, state\r\n",
        "\r\n",
        "  def initialize_hidden_state(self):\r\n",
        "    return tf.zeros((self.batch_sz, self.enc_units))\r\n"
      ],
      "execution_count": null,
      "outputs": []
    },
    {
      "cell_type": "code",
      "metadata": {
        "colab": {
          "base_uri": "https://localhost:8080/"
        },
        "id": "RT0Nc8YgQHMX",
        "outputId": "6240f089-31ac-4019-d58a-958d6c91c9dd"
      },
      "source": [
        "encoder = Encoder(vocab_inp_size, embedding_dim, units, BATCH_SIZE)\r\n",
        "\r\n",
        "# sample input\r\n",
        "sample_hidden = encoder.initialize_hidden_state()\r\n",
        "sample_output, sample_hidden = encoder(example_input_batch, sample_hidden)\r\n",
        "print ('Encoder output shape: (batch size, sequence length, units) {}'.format(sample_output.shape))\r\n",
        "print ('Encoder Hidden state shape: (batch size, units) {}'.format(sample_hidden.shape))"
      ],
      "execution_count": null,
      "outputs": [
        {
          "output_type": "stream",
          "text": [
            "Encoder output shape: (batch size, sequence length, units) (64, 42, 1024)\n",
            "Encoder Hidden state shape: (batch size, units) (64, 1024)\n"
          ],
          "name": "stdout"
        }
      ]
    },
    {
      "cell_type": "code",
      "metadata": {
        "id": "FRcILqmsSmRa"
      },
      "source": [
        "class BahdanauAttention(tf.keras.layers.Layer):\r\n",
        "  def __init__(self, units):\r\n",
        "    super(BahdanauAttention, self).__init__()\r\n",
        "    self.W1 = tf.keras.layers.Dense(units)\r\n",
        "    self.W2 = tf.keras.layers.Dense(units)\r\n",
        "    self.V = tf.keras.layers.Dense(1)\r\n",
        "\r\n",
        "  def call(self, query, values):\r\n",
        "    # query hidden state shape == (batch_size, hidden size)\r\n",
        "    # query_with_time_axis shape == (batch_size, 1, hidden size)\r\n",
        "    # values shape == (batch_size, max_len, hidden size)\r\n",
        "    # we are doing this to broadcast addition along the time axis to calculate the score\r\n",
        "    query_with_time_axis = tf.expand_dims(query, 1)\r\n",
        "\r\n",
        "    # score shape == (batch_size, max_length, 1)\r\n",
        "    # we get 1 at the last axis because we are applying score to self.V\r\n",
        "    # the shape of the tensor before applying self.V is (batch_size, max_length, units)\r\n",
        "    score = self.V(tf.nn.tanh(\r\n",
        "        self.W1(query_with_time_axis) + self.W2(values)))\r\n",
        "\r\n",
        "    # attention_weights shape == (batch_size, max_length, 1)\r\n",
        "    attention_weights = tf.nn.softmax(score, axis=1)\r\n",
        "\r\n",
        "    # context_vector shape after sum == (batch_size, hidden_size)\r\n",
        "    context_vector = attention_weights * values\r\n",
        "    context_vector = tf.reduce_sum(context_vector, axis=1)\r\n",
        "\r\n",
        "    return context_vector, attention_weights"
      ],
      "execution_count": null,
      "outputs": []
    },
    {
      "cell_type": "code",
      "metadata": {
        "colab": {
          "base_uri": "https://localhost:8080/"
        },
        "id": "qmwEZWILSsdP",
        "outputId": "5e435412-ecef-4b31-d488-c656df8995eb"
      },
      "source": [
        "attention_layer = BahdanauAttention(10)\r\n",
        "attention_result, attention_weights = attention_layer(sample_hidden, sample_output)\r\n",
        "\r\n",
        "print(\"Attention result shape: (batch size, units) {}\".format(attention_result.shape))\r\n",
        "print(\"Attention weights shape: (batch_size, sequence_length, 1) {}\".format(attention_weights.shape))"
      ],
      "execution_count": null,
      "outputs": [
        {
          "output_type": "stream",
          "text": [
            "Attention result shape: (batch size, units) (64, 1024)\n",
            "Attention weights shape: (batch_size, sequence_length, 1) (64, 42, 1)\n"
          ],
          "name": "stdout"
        }
      ]
    },
    {
      "cell_type": "code",
      "metadata": {
        "id": "XspUPFELSt3D"
      },
      "source": [
        "class Decoder(tf.keras.Model):\r\n",
        "  def __init__(self, vocab_size, embedding_dim, dec_units, batch_sz):\r\n",
        "    super(Decoder, self).__init__()\r\n",
        "    self.batch_sz = batch_sz\r\n",
        "    self.dec_units = dec_units\r\n",
        "    self.embedding = tf.keras.layers.Embedding(vocab_size, embedding_dim)\r\n",
        "    self.gru = tf.keras.layers.GRU(self.dec_units,\r\n",
        "                                   return_sequences=True,\r\n",
        "                                   return_state=True,\r\n",
        "                                   recurrent_initializer='glorot_uniform')\r\n",
        "    self.fc = tf.keras.layers.Dense(vocab_size)\r\n",
        "\r\n",
        "    # used for attention\r\n",
        "    self.attention = BahdanauAttention(self.dec_units)\r\n",
        "\r\n",
        "  def call(self, x, hidden, enc_output):\r\n",
        "    # enc_output shape == (batch_size, max_length, hidden_size)\r\n",
        "    context_vector, attention_weights = self.attention(hidden, enc_output)\r\n",
        "\r\n",
        "    # x shape after passing through embedding == (batch_size, 1, embedding_dim)\r\n",
        "    x = self.embedding(x)\r\n",
        "\r\n",
        "    # x shape after concatenation == (batch_size, 1, embedding_dim + hidden_size)\r\n",
        "    x = tf.concat([tf.expand_dims(context_vector, 1), x], axis=-1)\r\n",
        "\r\n",
        "    # passing the concatenated vector to the GRU\r\n",
        "    output, state = self.gru(x)\r\n",
        "\r\n",
        "    # output shape == (batch_size * 1, hidden_size)\r\n",
        "    output = tf.reshape(output, (-1, output.shape[2]))\r\n",
        "\r\n",
        "    # output shape == (batch_size, vocab)\r\n",
        "    x = self.fc(output)\r\n",
        "\r\n",
        "    return x, state, attention_weights"
      ],
      "execution_count": null,
      "outputs": []
    },
    {
      "cell_type": "code",
      "metadata": {
        "colab": {
          "base_uri": "https://localhost:8080/"
        },
        "id": "0uux4Y8rSxCG",
        "outputId": "fbf91c01-75a0-4da2-c0e0-ef1d177563df"
      },
      "source": [
        "decoder = Decoder(vocab_tar_size, embedding_dim, units, BATCH_SIZE)\r\n",
        "\r\n",
        "sample_decoder_output, _, _ = decoder(tf.random.uniform((BATCH_SIZE, 1)),\r\n",
        "                                      sample_hidden, sample_output)\r\n",
        "\r\n",
        "print ('Decoder output shape: (batch_size, vocab size) {}'.format(sample_decoder_output.shape))"
      ],
      "execution_count": null,
      "outputs": [
        {
          "output_type": "stream",
          "text": [
            "Decoder output shape: (batch_size, vocab size) (64, 13261)\n"
          ],
          "name": "stdout"
        }
      ]
    },
    {
      "cell_type": "code",
      "metadata": {
        "id": "Q4ioiYtKsEAB"
      },
      "source": [
        "optimizer = tf.keras.optimizers.Adam()\r\n",
        "loss_object = tf.keras.losses.SparseCategoricalCrossentropy(\r\n",
        "    from_logits=True, reduction='none')\r\n",
        "\r\n",
        "def loss_function(real, pred):\r\n",
        "  mask = tf.math.logical_not(tf.math.equal(real, 0))\r\n",
        "  loss_ = loss_object(real, pred)\r\n",
        "\r\n",
        "  mask = tf.cast(mask, dtype=loss_.dtype)\r\n",
        "  loss_ *= mask\r\n",
        "\r\n",
        "  return tf.reduce_mean(loss_)"
      ],
      "execution_count": null,
      "outputs": []
    },
    {
      "cell_type": "markdown",
      "metadata": {
        "id": "gl7kuQ5SvwWX"
      },
      "source": [
        "# Train"
      ]
    },
    {
      "cell_type": "code",
      "metadata": {
        "id": "kUPOyKNMvyvL"
      },
      "source": [
        "optimizer = tf.keras.optimizers.Adam()\r\n",
        "loss_object = tf.keras.losses.SparseCategoricalCrossentropy(\r\n",
        "    from_logits=True, reduction='none')\r\n",
        "\r\n",
        "def loss_function(real, pred):\r\n",
        "  mask = tf.math.logical_not(tf.math.equal(real, 0))\r\n",
        "  loss_ = loss_object(real, pred)\r\n",
        "\r\n",
        "  mask = tf.cast(mask, dtype=loss_.dtype)\r\n",
        "  loss_ *= mask\r\n",
        "\r\n",
        "  return tf.reduce_mean(loss_)"
      ],
      "execution_count": null,
      "outputs": []
    },
    {
      "cell_type": "code",
      "metadata": {
        "id": "dchLyUJwv8Vf"
      },
      "source": [
        "checkpoint_dir = './training_checkpoints'\r\n",
        "checkpoint_prefix = os.path.join(checkpoint_dir, \"ckpt\")\r\n",
        "checkpoint = tf.train.Checkpoint(optimizer=optimizer,\r\n",
        "                                 encoder=encoder,\r\n",
        "                                 decoder=decoder)"
      ],
      "execution_count": null,
      "outputs": []
    },
    {
      "cell_type": "code",
      "metadata": {
        "id": "2V9nUDTT1NW3"
      },
      "source": [
        "def evaluate(sentence):\r\n",
        "  \r\n",
        "\r\n",
        "  inputs = [eng_word_dict.get(i,1) for i in sentence.split(' ')]\r\n",
        "  inputs = tf.keras.preprocessing.sequence.pad_sequences([inputs],\r\n",
        "                                                         maxlen=max_eng_length,\r\n",
        "                                                         padding='post')\r\n",
        "  inputs = tf.convert_to_tensor(inputs)\r\n",
        "\r\n",
        "  result = ''\r\n",
        "\r\n",
        "  hidden = [tf.zeros((1, units))]\r\n",
        "  enc_out, enc_hidden = encoder(inputs, hidden)\r\n",
        "\r\n",
        "  dec_hidden = enc_hidden\r\n",
        "  dec_input = tf.expand_dims([mar_tokenizer.word_index['<start>']], 0)\r\n",
        "\r\n",
        "  for t in range(max_mar_length):\r\n",
        "    predictions, dec_hidden, _ = decoder(dec_input,\r\n",
        "                                                         dec_hidden,\r\n",
        "                                                         enc_out)\r\n",
        "\r\n",
        "    \r\n",
        "\r\n",
        "    predicted_id = tf.argmax(predictions[0]).numpy()\r\n",
        "\r\n",
        "    result += mar_tokenizer.index_word[predicted_id] + ' '\r\n",
        "\r\n",
        "    if mar_tokenizer.index_word[predicted_id] == '<end>':\r\n",
        "      return result, sentence\r\n",
        "\r\n",
        "    # the predicted ID is fed back into the model\r\n",
        "    dec_input = tf.expand_dims([predicted_id], 0)\r\n",
        "\r\n",
        "  return result, sentence"
      ],
      "execution_count": null,
      "outputs": []
    },
    {
      "cell_type": "code",
      "metadata": {
        "id": "OQ_IGsFc1Vq1"
      },
      "source": [
        "r,s=evaluate('what happened to you')"
      ],
      "execution_count": null,
      "outputs": []
    },
    {
      "cell_type": "code",
      "metadata": {
        "colab": {
          "base_uri": "https://localhost:8080/"
        },
        "id": "vJ1US08H1Vq3",
        "outputId": "5a51642b-937d-453f-aeb4-f54a08f0b908"
      },
      "source": [
        "type(s)"
      ],
      "execution_count": null,
      "outputs": [
        {
          "output_type": "execute_result",
          "data": {
            "text/plain": [
              "str"
            ]
          },
          "metadata": {
            "tags": []
          },
          "execution_count": 79
        }
      ]
    },
    {
      "cell_type": "code",
      "metadata": {
        "id": "DOUfdXGu1Vq5"
      },
      "source": [
        "def evaluate_model(inputs,targets):\r\n",
        "  actual,predicted=[],[]\r\n",
        "  i=1\r\n",
        "  for input,target in zip(inputs,targets):\r\n",
        "    i+=1\r\n",
        "    yhat,_=evaluate(input)\r\n",
        "\r\n",
        "    actual.append([target.split()])\r\n",
        "    predicted.append(yhat.split())\r\n",
        "    if i%1000==0:\r\n",
        "      print(i,'sentences processed')\r\n",
        "  b1 = corpus_bleu(actual, predicted, weights=(1.0, 0, 0, 0))\r\n",
        "  b2 = corpus_bleu(actual, predicted, weights=(0.5, 0.5, 0, 0))\r\n",
        "  b3 = corpus_bleu(actual, predicted, weights=(0.3, 0.3, 0.3, 0))\r\n",
        "  b4 = corpus_bleu(actual, predicted, weights=(0.25, 0.25, 0.25, 0.25))\r\n",
        "  print('\\n')\r\n",
        "  #score for 1-gram model\r\n",
        "  print('BLEU-1: %f' % b1)\r\n",
        "  #50% score calculated on 1-gram and other 50% using 2-gram\r\n",
        "  print('BLEU-2: %f' % b2)\r\n",
        "  #33% to each 1,2 and 3 gram\r\n",
        "  print('BLEU-3: %f' % b3)\r\n",
        "  # 1/4 score of each gram\r\n",
        "  print('BLEU-4: %f' % b4)\r\n",
        "  return [b1,b2,b3,b4]\r\n",
        "\r\n",
        "  \r\n",
        "    \r\n",
        "\r\n"
      ],
      "execution_count": null,
      "outputs": []
    },
    {
      "cell_type": "code",
      "metadata": {
        "colab": {
          "base_uri": "https://localhost:8080/"
        },
        "id": "4M_GHqdb1Vq5",
        "outputId": "87fa5e1f-106d-4cc7-903c-017583a5039b"
      },
      "source": [
        "from nltk.translate.bleu_score import corpus_bleu\r\n",
        "reference = [[['the', 'quick', 'brown', 'fox', 'jumped', 'over', 'the', 'lazy', 'dog']],[['I','AM',\"good\"]]]\r\n",
        "candidate = [['the', 'quick', 'brown', 'fox', 'jumped', 'over', 'the', 'lazy', 'dog'],['I','AM',\"good\"]]\r\n",
        "score = corpus_bleu(reference, candidate)\r\n",
        "print(score)"
      ],
      "execution_count": null,
      "outputs": [
        {
          "output_type": "stream",
          "text": [
            "0.9621954581957615\n"
          ],
          "name": "stdout"
        }
      ]
    },
    {
      "cell_type": "code",
      "metadata": {
        "colab": {
          "base_uri": "https://localhost:8080/"
        },
        "id": "7THL3nbJ36zA",
        "outputId": "efbc2ecd-78b7-469f-82f5-54659b4a08e7"
      },
      "source": [
        "eng_test[:10]"
      ],
      "execution_count": null,
      "outputs": [
        {
          "output_type": "execute_result",
          "data": {
            "text/plain": [
              "['<start> I got the message just this morning . <end>',\n",
              " '<start> They are preparing themselves . <end>',\n",
              " '<start> Who sent you ? <end>',\n",
              " '<start> Tom drinks six cups of coffee a day . <end>',\n",
              " '<start> My uncle , who lives in Paris , came to see us . <end>',\n",
              " '<start> Thank you for today . <end>',\n",
              " \"<start> I'm thinking of changing jobs . <end>\",\n",
              " '<start> Whose food is this ? <end>',\n",
              " '<start> No one has been arrested . <end>',\n",
              " '<start> My brother uses it . <end>']"
            ]
          },
          "metadata": {
            "tags": []
          },
          "execution_count": 82
        }
      ]
    },
    {
      "cell_type": "code",
      "metadata": {
        "colab": {
          "base_uri": "https://localhost:8080/"
        },
        "id": "6DTj83gT3-VG",
        "outputId": "917798bb-4ae7-4c2f-8ffd-8fd34b0f4f52"
      },
      "source": [
        "mar_test[:10]"
      ],
      "execution_count": null,
      "outputs": [
        {
          "output_type": "execute_result",
          "data": {
            "text/plain": [
              "['<start> मला आज सकाळीच निरोप पोहोचला . <end>',\n",
              " '<start> ते स्वतःला तयार करत आहेत . <end>',\n",
              " '<start> तुम्हाला कोणी पाठवलं ? <end>',\n",
              " '<start> टॉम एका दिवसात सहा कप कॉफी पितो . <end>',\n",
              " '<start> माझा पॅरिसमध्ये राहणारा मामा आम्हाला भेटायला आला . <end>',\n",
              " '<start> आजबाबत धन्यवाद . <end>',\n",
              " '<start> मी नोकरी बदलायचा विचार करत आहे . <end>',\n",
              " '<start> हे कोणाचं जेवण आहे ? <end>',\n",
              " '<start> कोणालाही अटक झाली नाही आहे . <end>',\n",
              " '<start> माझा भाऊ वापरतो . <end>']"
            ]
          },
          "metadata": {
            "tags": []
          },
          "execution_count": 83
        }
      ]
    },
    {
      "cell_type": "code",
      "metadata": {
        "colab": {
          "base_uri": "https://localhost:8080/"
        },
        "id": "H93v6Fqm1eBu",
        "outputId": "ce553f8b-78bf-4043-bbda-2997d15005bf"
      },
      "source": [
        "evaluate_model(eng_test[:10],mar_test[:10])"
      ],
      "execution_count": null,
      "outputs": [
        {
          "output_type": "stream",
          "text": [
            "\n",
            "\n",
            "BLEU-1: 0.000000\n",
            "BLEU-2: 0.000000\n",
            "BLEU-3: 0.000000\n",
            "BLEU-4: 0.000000\n"
          ],
          "name": "stdout"
        },
        {
          "output_type": "execute_result",
          "data": {
            "text/plain": [
              "[0, 0, 0, 0]"
            ]
          },
          "metadata": {
            "tags": []
          },
          "execution_count": 84
        }
      ]
    },
    {
      "cell_type": "code",
      "metadata": {
        "id": "SnOOrDDKwBUO"
      },
      "source": [
        "@tf.function\r\n",
        "def train_step(inp, targ, enc_hidden):\r\n",
        "  loss = 0\r\n",
        "  \r\n",
        "  with tf.GradientTape() as tape:\r\n",
        "    enc_output, enc_hidden = encoder(inp, enc_hidden)\r\n",
        "\r\n",
        "    dec_hidden = enc_hidden\r\n",
        "\r\n",
        "    dec_input = tf.expand_dims([mar_tokenizer.word_index['<start>']] * BATCH_SIZE, 1)\r\n",
        "\r\n",
        "    # Teacher forcing - feeding the target as the next input\r\n",
        "    for t in range(1, targ.shape[1]):\r\n",
        "      # passing enc_output to the decoder\r\n",
        "      predictions, dec_hidden, _ = decoder(dec_input, dec_hidden, enc_output)\r\n",
        "\r\n",
        "      loss += loss_function(targ[:, t], predictions)\r\n",
        "\r\n",
        "      # using teacher forcing\r\n",
        "      dec_input = tf.expand_dims(targ[:, t], 1)\r\n",
        "\r\n",
        "  batch_loss = (loss / int(targ.shape[1]))\r\n",
        "\r\n",
        "  variables = encoder.trainable_variables + decoder.trainable_variables\r\n",
        "\r\n",
        "  gradients = tape.gradient(loss, variables)\r\n",
        "\r\n",
        "  optimizer.apply_gradients(zip(gradients, variables))\r\n",
        "\r\n",
        "  return batch_loss"
      ],
      "execution_count": null,
      "outputs": []
    },
    {
      "cell_type": "code",
      "metadata": {
        "colab": {
          "base_uri": "https://localhost:8080/"
        },
        "id": "fs87q7DdwC_v",
        "outputId": "90be405e-a1a7-471b-dedd-3a65a74b09a0"
      },
      "source": [
        "EPOCHS = 16\r\n",
        "history={'loss':[], 'BLEU_val':[]}\r\n",
        "for epoch in range(EPOCHS):\r\n",
        "  start = time.time()\r\n",
        "  \r\n",
        "  enc_hidden = encoder.initialize_hidden_state()\r\n",
        "  total_loss = 0\r\n",
        "\r\n",
        "  for (batch, (inp, targ)) in enumerate(dataset.take(steps_per_epoch)):\r\n",
        "    batch_loss = train_step(inp, targ, enc_hidden)\r\n",
        "    total_loss += batch_loss\r\n",
        "\r\n",
        "    if batch % 100 == 0:\r\n",
        "      print('Epoch {} Batch {} Loss {:.4f}'.format(epoch + 1,\r\n",
        "                                                   batch,\r\n",
        "                                                   batch_loss.numpy()))\r\n",
        "  # saving (checkpoint) the model every 2 epochs\r\n",
        "  if (epoch + 1) % 2 == 0:\r\n",
        "    checkpoint.save(file_prefix = checkpoint_prefix)\r\n",
        "\r\n",
        "  print('\\nEvaluating model for {} epoch '.format(epoch+1))\r\n",
        "  history['loss'].append(total_loss/steps_per_epoch)\r\n",
        "  history['BLEU_val'].append(evaluate_model(eng_test,mar_test))\r\n",
        "\r\n",
        "  print('Epoch {} Loss {:.4f}'.format(epoch + 1,\r\n",
        "                                      total_loss / steps_per_epoch))\r\n",
        "  print('Time taken for 1 epoch {} sec\\n'.format(time.time() - start))"
      ],
      "execution_count": null,
      "outputs": [
        {
          "output_type": "stream",
          "text": [
            "Epoch 1 Batch 0 Loss 1.6946\n",
            "Epoch 1 Batch 100 Loss 0.9395\n",
            "Epoch 1 Batch 200 Loss 0.7443\n",
            "Epoch 1 Batch 300 Loss 0.7497\n",
            "Epoch 1 Batch 400 Loss 0.7751\n",
            "Epoch 1 Batch 500 Loss 0.7265\n",
            "\n",
            "Evaluating model for 1 epoch \n",
            "1000 sentences processed\n",
            "2000 sentences processed\n",
            "3000 sentences processed\n",
            "4000 sentences processed\n",
            "\n",
            "\n",
            "BLEU-1: 0.273859\n",
            "BLEU-2: 0.200534\n",
            "BLEU-3: 0.132107\n",
            "BLEU-4: 0.042951\n",
            "Epoch 1 Loss 0.8343\n",
            "Time taken for 1 epoch 476.59477496147156 sec\n",
            "\n",
            "Epoch 2 Batch 0 Loss 0.6969\n",
            "Epoch 2 Batch 100 Loss 0.7062\n",
            "Epoch 2 Batch 200 Loss 0.6711\n",
            "Epoch 2 Batch 300 Loss 0.6784\n",
            "Epoch 2 Batch 400 Loss 0.6938\n",
            "Epoch 2 Batch 500 Loss 0.6259\n",
            "\n",
            "Evaluating model for 2 epoch \n",
            "1000 sentences processed\n",
            "2000 sentences processed\n",
            "3000 sentences processed\n",
            "4000 sentences processed\n",
            "\n",
            "\n",
            "BLEU-1: 0.251901\n",
            "BLEU-2: 0.189178\n",
            "BLEU-3: 0.124226\n",
            "BLEU-4: 0.027861\n",
            "Epoch 2 Loss 0.6868\n",
            "Time taken for 1 epoch 420.51189661026 sec\n",
            "\n",
            "Epoch 3 Batch 0 Loss 0.6596\n",
            "Epoch 3 Batch 100 Loss 0.5604\n",
            "Epoch 3 Batch 200 Loss 0.5802\n",
            "Epoch 3 Batch 300 Loss 0.6429\n",
            "Epoch 3 Batch 400 Loss 0.6662\n",
            "Epoch 3 Batch 500 Loss 0.5820\n",
            "\n",
            "Evaluating model for 3 epoch \n",
            "1000 sentences processed\n",
            "2000 sentences processed\n",
            "3000 sentences processed\n",
            "4000 sentences processed\n",
            "\n",
            "\n",
            "BLEU-1: 0.171741\n",
            "BLEU-2: 0.119093\n",
            "BLEU-3: 0.080225\n",
            "BLEU-4: 0.021445\n",
            "Epoch 3 Loss 0.6126\n",
            "Time taken for 1 epoch 572.4118914604187 sec\n",
            "\n",
            "Epoch 4 Batch 0 Loss 0.5862\n",
            "Epoch 4 Batch 100 Loss 0.5244\n",
            "Epoch 4 Batch 200 Loss 0.5141\n",
            "Epoch 4 Batch 300 Loss 0.5627\n",
            "Epoch 4 Batch 400 Loss 0.5751\n",
            "Epoch 4 Batch 500 Loss 0.5558\n",
            "\n",
            "Evaluating model for 4 epoch \n",
            "1000 sentences processed\n",
            "2000 sentences processed\n",
            "3000 sentences processed\n",
            "4000 sentences processed\n",
            "\n",
            "\n",
            "BLEU-1: 0.265035\n",
            "BLEU-2: 0.179086\n",
            "BLEU-3: 0.092469\n",
            "BLEU-4: 0.024711\n",
            "Epoch 4 Loss 0.5542\n",
            "Time taken for 1 epoch 445.47771525382996 sec\n",
            "\n",
            "Epoch 5 Batch 0 Loss 0.5098\n",
            "Epoch 5 Batch 100 Loss 0.4943\n",
            "Epoch 5 Batch 200 Loss 0.4744\n",
            "Epoch 5 Batch 300 Loss 0.4421\n",
            "Epoch 5 Batch 400 Loss 0.4031\n",
            "Epoch 5 Batch 500 Loss 0.3574\n",
            "\n",
            "Evaluating model for 5 epoch \n",
            "1000 sentences processed\n",
            "2000 sentences processed\n",
            "3000 sentences processed\n",
            "4000 sentences processed\n",
            "\n",
            "\n",
            "BLEU-1: 0.294557\n",
            "BLEU-2: 0.210169\n",
            "BLEU-3: 0.127391\n",
            "BLEU-4: 0.051631\n",
            "Epoch 5 Loss 0.4238\n",
            "Time taken for 1 epoch 441.634605884552 sec\n",
            "\n",
            "Epoch 6 Batch 0 Loss 0.3077\n",
            "Epoch 6 Batch 100 Loss 0.3348\n",
            "Epoch 6 Batch 200 Loss 0.2846\n",
            "Epoch 6 Batch 300 Loss 0.2881\n",
            "Epoch 6 Batch 400 Loss 0.2746\n",
            "Epoch 6 Batch 500 Loss 0.1944\n",
            "\n",
            "Evaluating model for 6 epoch \n",
            "1000 sentences processed\n",
            "2000 sentences processed\n",
            "3000 sentences processed\n",
            "4000 sentences processed\n",
            "\n",
            "\n",
            "BLEU-1: 0.319398\n",
            "BLEU-2: 0.235049\n",
            "BLEU-3: 0.152379\n",
            "BLEU-4: 0.071167\n",
            "Epoch 6 Loss 0.2986\n",
            "Time taken for 1 epoch 441.8671567440033 sec\n",
            "\n",
            "Epoch 7 Batch 0 Loss 0.2277\n",
            "Epoch 7 Batch 100 Loss 0.1683\n",
            "Epoch 7 Batch 200 Loss 0.1864\n",
            "Epoch 7 Batch 300 Loss 0.2097\n",
            "Epoch 7 Batch 400 Loss 0.2116\n",
            "Epoch 7 Batch 500 Loss 0.2429\n",
            "\n",
            "Evaluating model for 7 epoch \n",
            "1000 sentences processed\n",
            "2000 sentences processed\n",
            "3000 sentences processed\n",
            "4000 sentences processed\n",
            "\n",
            "\n",
            "BLEU-1: 0.326549\n",
            "BLEU-2: 0.242075\n",
            "BLEU-3: 0.160898\n",
            "BLEU-4: 0.080844\n",
            "Epoch 7 Loss 0.2100\n",
            "Time taken for 1 epoch 440.1742844581604 sec\n",
            "\n",
            "Epoch 8 Batch 0 Loss 0.1401\n",
            "Epoch 8 Batch 100 Loss 0.1682\n",
            "Epoch 8 Batch 200 Loss 0.1378\n",
            "Epoch 8 Batch 300 Loss 0.1569\n",
            "Epoch 8 Batch 400 Loss 0.1512\n",
            "Epoch 8 Batch 500 Loss 0.1456\n",
            "\n",
            "Evaluating model for 8 epoch \n",
            "1000 sentences processed\n",
            "2000 sentences processed\n",
            "3000 sentences processed\n",
            "4000 sentences processed\n",
            "\n",
            "\n",
            "BLEU-1: 0.348886\n",
            "BLEU-2: 0.259681\n",
            "BLEU-3: 0.179020\n",
            "BLEU-4: 0.091716\n",
            "Epoch 8 Loss 0.1538\n",
            "Time taken for 1 epoch 452.40879702568054 sec\n",
            "\n",
            "Epoch 9 Batch 0 Loss 0.1174\n",
            "Epoch 9 Batch 100 Loss 0.1130\n",
            "Epoch 9 Batch 200 Loss 0.1072\n",
            "Epoch 9 Batch 300 Loss 0.1224\n",
            "Epoch 9 Batch 400 Loss 0.1185\n",
            "Epoch 9 Batch 500 Loss 0.1478\n",
            "\n",
            "Evaluating model for 9 epoch \n",
            "1000 sentences processed\n",
            "2000 sentences processed\n",
            "3000 sentences processed\n",
            "4000 sentences processed\n",
            "\n",
            "\n",
            "BLEU-1: 0.368579\n",
            "BLEU-2: 0.272492\n",
            "BLEU-3: 0.188941\n",
            "BLEU-4: 0.097051\n",
            "Epoch 9 Loss 0.1184\n",
            "Time taken for 1 epoch 465.94822335243225 sec\n",
            "\n",
            "Epoch 10 Batch 0 Loss 0.0775\n",
            "Epoch 10 Batch 100 Loss 0.0880\n",
            "Epoch 10 Batch 200 Loss 0.0882\n",
            "Epoch 10 Batch 300 Loss 0.0930\n",
            "Epoch 10 Batch 400 Loss 0.0872\n",
            "Epoch 10 Batch 500 Loss 0.1157\n",
            "\n",
            "Evaluating model for 10 epoch \n",
            "1000 sentences processed\n",
            "2000 sentences processed\n",
            "3000 sentences processed\n",
            "4000 sentences processed\n",
            "\n",
            "\n",
            "BLEU-1: 0.367509\n",
            "BLEU-2: 0.276414\n",
            "BLEU-3: 0.196183\n",
            "BLEU-4: 0.106321\n",
            "Epoch 10 Loss 0.0954\n",
            "Time taken for 1 epoch 454.2941656112671 sec\n",
            "\n",
            "Epoch 11 Batch 0 Loss 0.0832\n",
            "Epoch 11 Batch 100 Loss 0.0748\n",
            "Epoch 11 Batch 200 Loss 0.0748\n",
            "Epoch 11 Batch 300 Loss 0.0809\n",
            "Epoch 11 Batch 400 Loss 0.0980\n",
            "Epoch 11 Batch 500 Loss 0.0773\n",
            "\n",
            "Evaluating model for 11 epoch \n",
            "1000 sentences processed\n",
            "2000 sentences processed\n",
            "3000 sentences processed\n",
            "4000 sentences processed\n",
            "\n",
            "\n",
            "BLEU-1: 0.359015\n",
            "BLEU-2: 0.269441\n",
            "BLEU-3: 0.188117\n",
            "BLEU-4: 0.100938\n",
            "Epoch 11 Loss 0.0811\n",
            "Time taken for 1 epoch 450.22762751579285 sec\n",
            "\n",
            "Epoch 12 Batch 0 Loss 0.0619\n",
            "Epoch 12 Batch 100 Loss 0.0635\n",
            "Epoch 12 Batch 200 Loss 0.0712\n",
            "Epoch 12 Batch 300 Loss 0.0834\n",
            "Epoch 12 Batch 400 Loss 0.0798\n",
            "Epoch 12 Batch 500 Loss 0.0699\n",
            "\n",
            "Evaluating model for 12 epoch \n",
            "1000 sentences processed\n",
            "2000 sentences processed\n",
            "3000 sentences processed\n",
            "4000 sentences processed\n",
            "\n",
            "\n",
            "BLEU-1: 0.372173\n",
            "BLEU-2: 0.281065\n",
            "BLEU-3: 0.201324\n",
            "BLEU-4: 0.111042\n",
            "Epoch 12 Loss 0.0705\n",
            "Time taken for 1 epoch 454.99391746520996 sec\n",
            "\n",
            "Epoch 13 Batch 0 Loss 0.0680\n",
            "Epoch 13 Batch 100 Loss 0.0480\n",
            "Epoch 13 Batch 200 Loss 0.0509\n",
            "Epoch 13 Batch 300 Loss 0.0418\n",
            "Epoch 13 Batch 400 Loss 0.0875\n",
            "Epoch 13 Batch 500 Loss 0.0716\n",
            "\n",
            "Evaluating model for 13 epoch \n",
            "1000 sentences processed\n",
            "2000 sentences processed\n",
            "3000 sentences processed\n",
            "4000 sentences processed\n",
            "\n",
            "\n",
            "BLEU-1: 0.376623\n",
            "BLEU-2: 0.285789\n",
            "BLEU-3: 0.206324\n",
            "BLEU-4: 0.114614\n",
            "Epoch 13 Loss 0.0637\n",
            "Time taken for 1 epoch 453.9418742656708 sec\n",
            "\n",
            "Epoch 14 Batch 0 Loss 0.0487\n",
            "Epoch 14 Batch 100 Loss 0.0605\n",
            "Epoch 14 Batch 200 Loss 0.0614\n",
            "Epoch 14 Batch 300 Loss 0.0643\n",
            "Epoch 14 Batch 400 Loss 0.0531\n",
            "Epoch 14 Batch 500 Loss 0.0755\n",
            "\n",
            "Evaluating model for 14 epoch \n",
            "1000 sentences processed\n",
            "2000 sentences processed\n",
            "3000 sentences processed\n",
            "4000 sentences processed\n",
            "\n",
            "\n",
            "BLEU-1: 0.378257\n",
            "BLEU-2: 0.284548\n",
            "BLEU-3: 0.203127\n",
            "BLEU-4: 0.113085\n",
            "Epoch 14 Loss 0.0589\n",
            "Time taken for 1 epoch 453.0292308330536 sec\n",
            "\n",
            "Epoch 15 Batch 0 Loss 0.0415\n",
            "Epoch 15 Batch 100 Loss 0.0478\n",
            "Epoch 15 Batch 200 Loss 0.0404\n",
            "Epoch 15 Batch 300 Loss 0.0534\n",
            "Epoch 15 Batch 400 Loss 0.0545\n",
            "Epoch 15 Batch 500 Loss 0.0578\n",
            "\n",
            "Evaluating model for 15 epoch \n",
            "1000 sentences processed\n",
            "2000 sentences processed\n",
            "3000 sentences processed\n",
            "4000 sentences processed\n",
            "\n",
            "\n",
            "BLEU-1: 0.378311\n",
            "BLEU-2: 0.285247\n",
            "BLEU-3: 0.205616\n",
            "BLEU-4: 0.117405\n",
            "Epoch 15 Loss 0.0550\n",
            "Time taken for 1 epoch 446.7556357383728 sec\n",
            "\n",
            "Epoch 16 Batch 0 Loss 0.0407\n",
            "Epoch 16 Batch 100 Loss 0.0392\n",
            "Epoch 16 Batch 200 Loss 0.0528\n",
            "Epoch 16 Batch 300 Loss 0.0422\n",
            "Epoch 16 Batch 400 Loss 0.0449\n",
            "Epoch 16 Batch 500 Loss 0.0669\n",
            "\n",
            "Evaluating model for 16 epoch \n",
            "1000 sentences processed\n",
            "2000 sentences processed\n",
            "3000 sentences processed\n",
            "4000 sentences processed\n",
            "\n",
            "\n",
            "BLEU-1: 0.382239\n",
            "BLEU-2: 0.288171\n",
            "BLEU-3: 0.209496\n",
            "BLEU-4: 0.117926\n",
            "Epoch 16 Loss 0.0520\n",
            "Time taken for 1 epoch 457.9815089702606 sec\n",
            "\n"
          ],
          "name": "stdout"
        }
      ]
    },
    {
      "cell_type": "markdown",
      "metadata": {
        "id": "LbXK2wCyPWI9"
      },
      "source": [
        "# Test"
      ]
    },
    {
      "cell_type": "code",
      "metadata": {
        "id": "iYrRPTMpwwUV"
      },
      "source": [
        "def evaluate(sentence):\r\n",
        "\r\n",
        "  sentence=preprocess_sentence(sentence)\r\n",
        "  \r\n",
        "\r\n",
        "  inputs = [eng_word_dict.get(i,1) for i in sentence.split(' ')]\r\n",
        "  inputs = tf.keras.preprocessing.sequence.pad_sequences([inputs],\r\n",
        "                                                         maxlen=max_eng_length,\r\n",
        "                                                         padding='post')\r\n",
        "  inputs = tf.convert_to_tensor(inputs)\r\n",
        "\r\n",
        "  result = ''\r\n",
        "\r\n",
        "  hidden = [tf.zeros((1, units))]\r\n",
        "  enc_out, enc_hidden = encoder(inputs, hidden)\r\n",
        "\r\n",
        "  dec_hidden = enc_hidden\r\n",
        "  dec_input = tf.expand_dims([mar_tokenizer.word_index['<start>']], 0)\r\n",
        "\r\n",
        "  for t in range(max_mar_length):\r\n",
        "    predictions, dec_hidden, _ = decoder(dec_input,\r\n",
        "                                                         dec_hidden,\r\n",
        "                                                         enc_out)\r\n",
        "\r\n",
        "    \r\n",
        "\r\n",
        "    predicted_id = tf.argmax(predictions[0]).numpy()\r\n",
        "\r\n",
        "    result += mar_tokenizer.index_word[predicted_id] + ' '\r\n",
        "\r\n",
        "    if mar_tokenizer.index_word[predicted_id] == '<end>':\r\n",
        "      return result, sentence\r\n",
        "\r\n",
        "    # the predicted ID is fed back into the model\r\n",
        "    dec_input = tf.expand_dims([predicted_id], 0)\r\n",
        "\r\n",
        "  return result, sentence"
      ],
      "execution_count": null,
      "outputs": []
    },
    {
      "cell_type": "code",
      "metadata": {
        "colab": {
          "background_save": true
        },
        "id": "tyW8RcuIUDG8"
      },
      "source": [
        "r,s=evaluate('what is your ')"
      ],
      "execution_count": null,
      "outputs": []
    },
    {
      "cell_type": "code",
      "metadata": {
        "colab": {
          "background_save": true,
          "base_uri": "https://localhost:8080/",
          "height": 35
        },
        "id": "-jvBEzVw-Isf",
        "outputId": "858bdce8-f78c-481d-dd6b-03a6734a87ef"
      },
      "source": [
        "r"
      ],
      "execution_count": null,
      "outputs": [
        {
          "output_type": "execute_result",
          "data": {
            "application/vnd.google.colaboratory.intrinsic+json": {
              "type": "string"
            },
            "text/plain": [
              "'तुझं नाव काय ? <end> '"
            ]
          },
          "metadata": {
            "tags": []
          },
          "execution_count": 0
        }
      ]
    },
    {
      "cell_type": "code",
      "metadata": {
        "id": "sTcJPI8jhyTy"
      },
      "source": [
        ""
      ],
      "execution_count": null,
      "outputs": []
    }
  ]
}